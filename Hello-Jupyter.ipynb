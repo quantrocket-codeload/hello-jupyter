{
 "cells": [
  {
   "cell_type": "markdown",
   "metadata": {},
   "source": [
    "<a href=\"https://www.quantrocket.com\"><img alt=\"QuantRocket logo\" src=\"https://www.quantrocket.com/assets/img/notebook-header-logo.png\"></a>"
   ]
  },
  {
   "cell_type": "markdown",
   "metadata": {},
   "source": [
    "# Hello Jupyter\n",
    "\n",
    "*A very brief intro to Jupyter notebooks*\n",
    "\n",
    "Jupyter notebooks are interactive documents that let you write and execute code and run visualizations alongside narrative text. They are great tools for quantitative research.\n",
    "\n",
    "Quick demo:\n",
    "\n",
    "* place your mouse in this cell to highlight it\n",
    "* On the top menu, click the \"+\" icon to create a new cell below this one.\n",
    "* In the new cell, type:\n",
    "    \n",
    "    > `print(\"1 + 1 is the same as\", 1+1)`\n",
    "\n",
    "\n",
    "* Press \"SHIFT+ENTER\" to execute the cell (or select Cell > Run Cells from the top menu).\n",
    "* place your mouse in the cell just executed to highlight, then click the \"+\" icon to create another new cell\n",
    "* Change the dropdown selector in the top menu from \"Code\" to \"Markdown\"\n",
    "* In the new cell, type:\n",
    "\n",
    "    > `Jupyter notebooks are **fantastic**`\n",
    "\n",
    "\n",
    "* Press \"SHIFT+ENTER\" (Cell > Run Cells) to execute the cell and render the Markdown.\n",
    "\n",
    "Now that you know the basics of Jupyter notebooks, feel free to delete this notebook and move on to something more interesting. "
   ]
  },
  {
   "cell_type": "code",
   "execution_count": null,
   "metadata": {},
   "outputs": [],
   "source": []
  }
 ],
 "metadata": {
  "kernelspec": {
   "display_name": "Python 3",
   "language": "python",
   "name": "python3"
  },
  "language_info": {
   "codemirror_mode": {
    "name": "ipython",
    "version": 3
   },
   "file_extension": ".py",
   "mimetype": "text/x-python",
   "name": "python",
   "nbconvert_exporter": "python",
   "pygments_lexer": "ipython3",
   "version": "3.6.6"
  }
 },
 "nbformat": 4,
 "nbformat_minor": 2
}
